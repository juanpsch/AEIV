{
 "cells": [
  {
   "cell_type": "code",
   "execution_count": 62,
   "metadata": {},
   "outputs": [],
   "source": [
    "# ..................................................................................\n",
    "# algoritmo PSO que minimiza la funcion unimodal f(x, y) = x^2 + y^2\n",
    "# ..................................................................................\n",
    "\n",
    "import numpy as np\n",
    "\n",
    "# funcion objetivo hiperboloide eliptico\n",
    "def funcion_objetivo(x, y):\n",
    "    return x**2 + y**2"
   ]
  },
  {
   "cell_type": "code",
   "execution_count": 63,
   "metadata": {},
   "outputs": [],
   "source": [
    "# parametros\n",
    "num_particulas = 20  # numero de particulas\n",
    "dim = 2  # dimensiones\n",
    "cantidad_iteraciones = 10  # maximo numero de iteraciones\n",
    "c1 = 2.0  # componente cognitivo\n",
    "c2 = 2.0  # componente social\n",
    "w = 0.7  # factor de inercia\n",
    "limite_inf = -100  # limite inferior de busqueda\n",
    "limite_sup = 100  # limite superior de busqueda"
   ]
  },
  {
   "cell_type": "code",
   "execution_count": 65,
   "metadata": {},
   "outputs": [],
   "source": [
    "# inicializacion\n",
    "particulas = np.random.uniform(limite_inf, limite_sup, (num_particulas, dim))  # posiciones iniciales de las particulas\n",
    "\n",
    "velocidades = np.zeros((num_particulas, dim))  # inicializacion de la matriz de velocidades en cero\n",
    "\n",
    "# inicializacion de pbest y gbest\n",
    "pbest = particulas.copy()  # mejores posiciones personales iniciales\n",
    "\n",
    "fitness_pbest = np.empty(num_particulas)  # mejores fitness personales iniciales\n",
    "for i in range(num_particulas):\n",
    "    fitness_pbest[i] = funcion_objetivo(*particulas[i])\n",
    "\n",
    "gbest = pbest[np.argmin(fitness_pbest)]  # mejor posicion global inicial\n",
    "fitness_gbest = np.min(fitness_pbest)  # fitness global inicial"
   ]
  },
  {
   "cell_type": "code",
   "execution_count": 66,
   "metadata": {},
   "outputs": [
    {
     "name": "stdout",
     "output_type": "stream",
     "text": [
      "Iteración 1: Mejor posición global [25.47634369 -4.76150443], Valor 671.7160124816671\n",
      "Iteración 2: Mejor posición global [10.39666228 -2.68822498], Valor 115.31714013725868\n",
      "Iteración 3: Mejor posición global [ 3.33500579 -1.27214388], Valor 12.740613679351055\n",
      "Iteración 4: Mejor posición global [ 3.33500579 -1.27214388], Valor 12.740613679351055\n",
      "Iteración 5: Mejor posición global [ 3.33500579 -1.27214388], Valor 12.740613679351055\n",
      "Iteración 6: Mejor posición global [ 3.33500579 -1.27214388], Valor 12.740613679351055\n",
      "Iteración 7: Mejor posición global [ 3.33500579 -1.27214388], Valor 12.740613679351055\n",
      "Iteración 8: Mejor posición global [ 3.33500579 -1.27214388], Valor 12.740613679351055\n",
      "Iteración 9: Mejor posición global [ 3.33500579 -1.27214388], Valor 12.740613679351055\n",
      "Iteración 10: Mejor posición global [ 3.33500579 -1.27214388], Valor 12.740613679351055\n",
      "\n",
      "Solucion optima (x, y): [ 3.33500579 -1.27214388]\n",
      "Valor optimo: 12.740613679351055\n"
     ]
    }
   ],
   "source": [
    "# busqueda\n",
    "for iteracion in range(cantidad_iteraciones):\n",
    "    for i in range(num_particulas):  # iteracion sobre cada partícula\n",
    "        r1, r2 = np.random.rand(), np.random.rand()  # generacion dos numeros aleatorios\n",
    "\n",
    "        # actualizacion de la velocidad de la particula en cada dimension\n",
    "        for d in range(dim):\n",
    "            velocidades[i][d] = (w * velocidades[i][d] + c1 * r1 * (pbest[i][d] - particulas[i][d]) + c2 * r2 * (gbest[d] - particulas[i][d]))\n",
    "\n",
    "        for d in range(dim):\n",
    "            particulas[i][d] = particulas[i][d] + velocidades[i][d]  # cctualizacion de la posicion de la particula en cada dimension\n",
    "\n",
    "            # mantenimiento de las partículas dentro de los limites\n",
    "            particulas[i][d] = np.clip(particulas[i][d], limite_inf, limite_sup)\n",
    "\n",
    "        fitness = funcion_objetivo(particulas[i][0], particulas[i][1])  # Evaluacion de la funcion objetivo para la nueva posicion\n",
    "\n",
    "        # actualizacion el mejor personal\n",
    "        if fitness < fitness_pbest[i]:\n",
    "            fitness_pbest[i] = fitness  # actualizacion del mejor fitness personal\n",
    "            pbest[i] = particulas[i].copy()  # actualizacion de la mejor posicion personal\n",
    "\n",
    "            # actualizacion del mejor global\n",
    "            if fitness < fitness_gbest:\n",
    "                fitness_gbest = fitness  # actualizacion del mejor fitness global\n",
    "                gbest = particulas[i].copy()  # actualizacion de la mejor posicion global\n",
    "\n",
    "    # imprimir el mejor global en cada iteracion\n",
    "    print(f\"Iteración {iteracion + 1}: Mejor posición global {gbest}, Valor {fitness_gbest}\")\n",
    "\n",
    "# resultado\n",
    "solucion_optima = gbest  # mejor posicion global final\n",
    "valor_optimo = fitness_gbest  # mejor fitness global final\n",
    "\n",
    "print(\"\\nSolucion optima (x, y):\", solucion_optima)\n",
    "print(\"Valor optimo:\", valor_optimo)"
   ]
  },
  {
   "cell_type": "code",
   "execution_count": null,
   "metadata": {},
   "outputs": [],
   "source": []
  }
 ],
 "metadata": {
  "kernelspec": {
   "display_name": "cv1",
   "language": "python",
   "name": "python3"
  },
  "language_info": {
   "codemirror_mode": {
    "name": "ipython",
    "version": 3
   },
   "file_extension": ".py",
   "mimetype": "text/x-python",
   "name": "python",
   "nbconvert_exporter": "python",
   "pygments_lexer": "ipython3",
   "version": "3.12.2"
  }
 },
 "nbformat": 4,
 "nbformat_minor": 2
}

{
 "cells": [
  {
   "cell_type": "code",
   "execution_count": 56,
   "metadata": {},
   "outputs": [],
   "source": [
    "# .................................................................\n",
    "# Ejemplo de PSO con restricciones\n",
    "#      maximizar     3x1 + 5x2\n",
    "#\n",
    "#      sujeto a:\n",
    "#                     x1        <= 4\n",
    "#                           2x2 <= 12\n",
    "#                     3x1 + 2x2 <= 18\n",
    "# .................................................................\n",
    "import numpy as np"
   ]
  },
  {
   "cell_type": "code",
   "execution_count": 57,
   "metadata": {},
   "outputs": [],
   "source": [
    "# función objetivo a maximizar\n",
    "def f(x):\n",
    "    return 3 * x[0] + 5 * x[1]  # funcion objetivo: 3x1 + 5x2\n",
    "\n",
    "\n",
    "# primera restriccion\n",
    "def g1(x):\n",
    "    return x[0] - 4 <= 0  # restriccion: x1 <= 4\n",
    "\n",
    "\n",
    "# segunda restriccion\n",
    "def g2(x):\n",
    "    return 2 * x[1] - 12 <= 0  # restriccion: 2x2 <= 12\n",
    "\n",
    "\n",
    "# tercera restriccion\n",
    "def g3(x):\n",
    "    return 3 * x[0] + 2 * x[1] - 18 <= 0  # restriccion: 3x1 + 2x2 <= 18"
   ]
  },
  {
   "cell_type": "code",
   "execution_count": 58,
   "metadata": {},
   "outputs": [],
   "source": [
    "# parametros\n",
    "n_particles = 20  # numero de particulas en el enjambre\n",
    "n_dimensions = 2  # dimensiones del espacio de busqueda (x1 y x2)\n",
    "max_iterations = 100  # numero máximo de iteraciones para la optimizacion\n",
    "c1 = c2 = 2  # coeficientes de aceleracion\n",
    "w = 0.5  # Factor de inercia"
   ]
  },
  {
   "cell_type": "code",
   "execution_count": 59,
   "metadata": {},
   "outputs": [],
   "source": [
    "# inicialización de particulas\n",
    "x = np.zeros((n_particles, n_dimensions))  # matriz para las posiciones de las particulas\n",
    "v = np.zeros((n_particles, n_dimensions))  # matriz para las velocidades de las particulas\n",
    "pbest = np.zeros((n_particles, n_dimensions))  # matriz para los mejores valores personales\n",
    "pbest_fit = -np.inf * np.ones(n_particles)  # mector para las mejores aptitudes personales (inicialmente -infinito)\n",
    "gbest = np.zeros(n_dimensions)  # mejor solución global\n",
    "gbest_fit = -np.inf  # mejor aptitud global (inicialmente -infinito)\n",
    "\n",
    "# inicializacion de particulas factibles\n",
    "for i in range(n_particles):\n",
    "    while True:  # bucle para asegurar que la particula sea factible\n",
    "        x[i] = np.random.uniform(0, 10, n_dimensions)  # inicializacion posicion aleatoria en el rango [0, 10]\n",
    "        if g1(x[i]) and g2(x[i]) and g3(x[i]):  # se comprueba si la posicion cumple las restricciones\n",
    "            break  # Salir del bucle si es factible\n",
    "    v[i] = np.random.uniform(-1, 1, n_dimensions)  # inicializar velocidad aleatoria\n",
    "    pbest[i] = x[i].copy()  # ee establece el mejor valor personal inicial como la posicion actual\n",
    "    fit = f(x[i])  # calculo la aptitud de la posicion inicial\n",
    "    if fit > pbest_fit[i]:  # si la aptitud es mejor que la mejor conocida\n",
    "        pbest_fit[i] = fit  # se actualiza el mejor valor personal"
   ]
  },
  {
   "cell_type": "code",
   "execution_count": 60,
   "metadata": {},
   "outputs": [
    {
     "name": "stdout",
     "output_type": "stream",
     "text": [
      "Mejor solucion: [2.4650, 5.3024]\n",
      "Valor optimo: 33.90729687474496\n"
     ]
    }
   ],
   "source": [
    "# Optimizacion\n",
    "for _ in range(max_iterations):  # Repetir hasta el número máximo de iteraciones\n",
    "    for i in range(n_particles):\n",
    "        fit = f(x[i])  # Se calcula la aptitud de la posicion actual\n",
    "        # Se comprueba si la nueva aptitud es mejor y si cumple las restricciones\n",
    "        if fit > pbest_fit[i] and g1(x[i]) and g2(x[i]) and g3(x[i]):\n",
    "            pbest_fit[i] = fit  # Se actualiza la mejor aptitud personal\n",
    "            pbest[i] = x[i].copy()  # Se actualizar la mejor posicion personal\n",
    "            if fit > gbest_fit:  # Si la nueva aptitud es mejor que la mejor global\n",
    "                gbest_fit = fit  # Se actualizar la mejor aptitud global\n",
    "                gbest = x[i].copy()  # Se actualizar la mejor posicion global\n",
    "\n",
    "        # actualizacion de la velocidad de la particula\n",
    "        v[i] = w * v[i] + c1 * np.random.rand() * (pbest[i] - x[i]) + c2 * np.random.rand() * (gbest - x[i])\n",
    "        x[i] += v[i]  # Se actualiza la posicion de la particula\n",
    "\n",
    "        # se asegura de que la nueva posicion esté dentro de las restricciones\n",
    "        if not (g1(x[i]) and g2(x[i]) and g3(x[i])):\n",
    "            # Si la nueva posicion no es válida, revertir a la mejor posicion personal\n",
    "            x[i] = pbest[i].copy()\n",
    "\n",
    "# Se imprime la mejor solucion encontrada y también su valor optimo\n",
    "print(f\"Mejor solucion: [{gbest[0]:.4f}, {gbest[1]:.4f}]\")\n",
    "print(f\"Valor optimo: {gbest_fit}\")\n"
   ]
  }
 ],
 "metadata": {
  "kernelspec": {
   "display_name": "cv1",
   "language": "python",
   "name": "python3"
  },
  "language_info": {
   "codemirror_mode": {
    "name": "ipython",
    "version": 3
   },
   "file_extension": ".py",
   "mimetype": "text/x-python",
   "name": "python",
   "nbconvert_exporter": "python",
   "pygments_lexer": "ipython3",
   "version": "3.12.2"
  }
 },
 "nbformat": 4,
 "nbformat_minor": 2
}
